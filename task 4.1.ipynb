{
 "cells": [
  {
   "cell_type": "code",
   "execution_count": 1,
   "id": "e0a022b4",
   "metadata": {},
   "outputs": [],
   "source": [
    "#TASK 4.1 - create an image by youself using python opencv"
   ]
  },
  {
   "cell_type": "code",
   "execution_count": 2,
   "id": "94760f29",
   "metadata": {},
   "outputs": [],
   "source": [
    "import cv2\n",
    "import numpy as np"
   ]
  },
  {
   "cell_type": "code",
   "execution_count": 3,
   "id": "b06c0684",
   "metadata": {},
   "outputs": [],
   "source": [
    "photo = np.ones((600,500,3))"
   ]
  },
  {
   "cell_type": "code",
   "execution_count": 4,
   "id": "eb274006",
   "metadata": {},
   "outputs": [
    {
     "data": {
      "text/plain": [
       "(600, 500, 3)"
      ]
     },
     "execution_count": 4,
     "metadata": {},
     "output_type": "execute_result"
    }
   ],
   "source": [
    "photo.shape"
   ]
  },
  {
   "cell_type": "code",
   "execution_count": 5,
   "id": "654fcb6f",
   "metadata": {},
   "outputs": [
    {
     "data": {
      "text/plain": [
       "array([[[1., 1., 1.],\n",
       "        [1., 1., 1.],\n",
       "        [1., 1., 1.],\n",
       "        ...,\n",
       "        [1., 1., 1.],\n",
       "        [1., 1., 1.],\n",
       "        [1., 1., 1.]],\n",
       "\n",
       "       [[1., 1., 1.],\n",
       "        [1., 1., 1.],\n",
       "        [1., 1., 1.],\n",
       "        ...,\n",
       "        [1., 1., 1.],\n",
       "        [1., 1., 1.],\n",
       "        [1., 1., 1.]],\n",
       "\n",
       "       [[1., 1., 1.],\n",
       "        [1., 1., 1.],\n",
       "        [1., 1., 1.],\n",
       "        ...,\n",
       "        [1., 1., 1.],\n",
       "        [1., 1., 1.],\n",
       "        [1., 1., 1.]],\n",
       "\n",
       "       ...,\n",
       "\n",
       "       [[1., 1., 1.],\n",
       "        [1., 1., 1.],\n",
       "        [1., 1., 1.],\n",
       "        ...,\n",
       "        [1., 1., 1.],\n",
       "        [1., 1., 1.],\n",
       "        [1., 1., 1.]],\n",
       "\n",
       "       [[1., 1., 1.],\n",
       "        [1., 1., 1.],\n",
       "        [1., 1., 1.],\n",
       "        ...,\n",
       "        [1., 1., 1.],\n",
       "        [1., 1., 1.],\n",
       "        [1., 1., 1.]],\n",
       "\n",
       "       [[1., 1., 1.],\n",
       "        [1., 1., 1.],\n",
       "        [1., 1., 1.],\n",
       "        ...,\n",
       "        [1., 1., 1.],\n",
       "        [1., 1., 1.],\n",
       "        [1., 1., 1.]]])"
      ]
     },
     "execution_count": 5,
     "metadata": {},
     "output_type": "execute_result"
    }
   ],
   "source": [
    "photo"
   ]
  },
  {
   "cell_type": "code",
   "execution_count": 6,
   "id": "0ce37e53",
   "metadata": {},
   "outputs": [],
   "source": [
    "photo[20:30, 90:410]=[0]\n",
    "photo[30:70, 90:100]=[0]\n",
    "photo[30:70, 400:410]=[0]\n",
    "\n",
    "photo[70:80, 90:230]=[0]\n",
    "photo[70:80, 270:410]=[0]\n",
    "\n",
    "photo[80:450, 220:230]=[0]\n",
    "photo[80:450, 270:280]=[0]\n",
    "photo[450:460, 220:280]=[0]\n",
    "\n",
    "\n",
    "\n",
    "photo[30:70, 100:400]=[0,0,255]\n",
    "photo[70:450, 230:270]=[0,0,255]\n"
   ]
  },
  {
   "cell_type": "code",
   "execution_count": 7,
   "id": "8ece022d",
   "metadata": {},
   "outputs": [],
   "source": [
    "cv2.imshow('created-image', photo)\n",
    "cv2.waitKey(0)==13\n",
    "cv2.destroyAllWindows()"
   ]
  },
  {
   "cell_type": "code",
   "execution_count": null,
   "id": "094ced2f",
   "metadata": {},
   "outputs": [],
   "source": []
  }
 ],
 "metadata": {
  "kernelspec": {
   "display_name": "Python 3",
   "language": "python",
   "name": "python3"
  },
  "language_info": {
   "codemirror_mode": {
    "name": "ipython",
    "version": 3
   },
   "file_extension": ".py",
   "mimetype": "text/x-python",
   "name": "python",
   "nbconvert_exporter": "python",
   "pygments_lexer": "ipython3",
   "version": "3.8.8"
  }
 },
 "nbformat": 4,
 "nbformat_minor": 5
}
