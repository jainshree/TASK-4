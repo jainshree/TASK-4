{
 "cells": [
  {
   "cell_type": "code",
   "execution_count": 1,
   "id": "e7ec19ff",
   "metadata": {},
   "outputs": [],
   "source": [
    "#TASK 4.3- take two images and combine it to form as a single image like a collage"
   ]
  },
  {
   "cell_type": "code",
   "execution_count": 2,
   "id": "9b17cf4a",
   "metadata": {},
   "outputs": [],
   "source": [
    "import cv2\n",
    "import numpy"
   ]
  },
  {
   "cell_type": "code",
   "execution_count": 3,
   "id": "3697906c",
   "metadata": {},
   "outputs": [],
   "source": [
    "pic1=cv2.imread('pubg1.jpg')\n",
    "pic2=cv2.imread('pubg2.jpg')"
   ]
  },
  {
   "cell_type": "code",
   "execution_count": 4,
   "id": "921686de",
   "metadata": {},
   "outputs": [],
   "source": [
    "cv2.imshow('1', pic1)\n",
    "cv2.imshow('2', pic2)\n",
    "cv2.waitKey(0)==13\n",
    "cv2.destroyAllWindows()"
   ]
  },
  {
   "cell_type": "code",
   "execution_count": 5,
   "id": "bfd01b6c",
   "metadata": {},
   "outputs": [],
   "source": [
    "merged=numpy.hstack((pic1,pic2))"
   ]
  },
  {
   "cell_type": "code",
   "execution_count": 6,
   "id": "97e7dc55",
   "metadata": {},
   "outputs": [],
   "source": [
    "cv2.imshow('merged', merged)\n",
    "cv2.waitKey(0)==13\n",
    "cv2.destroyAllWindows()"
   ]
  },
  {
   "cell_type": "code",
   "execution_count": null,
   "id": "5a844263",
   "metadata": {},
   "outputs": [],
   "source": []
  }
 ],
 "metadata": {
  "kernelspec": {
   "display_name": "Python 3",
   "language": "python",
   "name": "python3"
  },
  "language_info": {
   "codemirror_mode": {
    "name": "ipython",
    "version": 3
   },
   "file_extension": ".py",
   "mimetype": "text/x-python",
   "name": "python",
   "nbconvert_exporter": "python",
   "pygments_lexer": "ipython3",
   "version": "3.8.8"
  }
 },
 "nbformat": 4,
 "nbformat_minor": 5
}
