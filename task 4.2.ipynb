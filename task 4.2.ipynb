{
 "cells": [
  {
   "cell_type": "code",
   "execution_count": 1,
   "id": "ee9910db",
   "metadata": {},
   "outputs": [],
   "source": [
    "#TASK 4.2- taking two images crop some part of both the images and swap it"
   ]
  },
  {
   "cell_type": "code",
   "execution_count": 2,
   "id": "edecca3b",
   "metadata": {},
   "outputs": [],
   "source": [
    "import cv2"
   ]
  },
  {
   "cell_type": "code",
   "execution_count": 3,
   "id": "9aa9aac9",
   "metadata": {},
   "outputs": [],
   "source": [
    "photo1 = cv2.imread('sunset.jpg')\n",
    "photo2 = cv2.imread('beach2.jpg')\n"
   ]
  },
  {
   "cell_type": "code",
   "execution_count": 4,
   "id": "7d904a6e",
   "metadata": {},
   "outputs": [],
   "source": [
    "#the two images are here\n",
    "cv2.imshow('image', photo1)\n",
    "cv2.imshow('image2', photo2)\n",
    "cv2.waitKey(0)==13\n",
    "cv2.destroyAllWindows()"
   ]
  },
  {
   "cell_type": "code",
   "execution_count": 5,
   "id": "675286cf",
   "metadata": {},
   "outputs": [],
   "source": [
    "#cropping image 1\n",
    "cphoto1= photo1[1:275, 1:321]\n",
    "\n",
    "cv2.imshow('cropimg1', cphoto1)\n",
    "cv2.waitKey(0)==13\n",
    "cv2.destroyAllWindows()"
   ]
  },
  {
   "cell_type": "code",
   "execution_count": 6,
   "id": "e3133a3e",
   "metadata": {},
   "outputs": [],
   "source": [
    "#cropping image 2\n",
    "cphoto2= photo2[1:275, 1:321]\n",
    "\n",
    "cv2.imshow('image1_swapped', cphoto2)\n",
    "cv2.waitKey(0)==13\n",
    "cv2.destroyAllWindows()"
   ]
  },
  {
   "cell_type": "code",
   "execution_count": 7,
   "id": "ab10ec54",
   "metadata": {},
   "outputs": [],
   "source": [
    "#swapping the cropped image 2 with image 1\n",
    "img1 = cv2.imread('sunset.jpg')\n",
    "\n",
    "img1[1:275, 1:321] = cphoto2\n",
    "cv2.imshow('image1_swapped', img1)\n",
    "cv2.waitKey(0)==13\n",
    "cv2.destroyAllWindows()"
   ]
  },
  {
   "cell_type": "code",
   "execution_count": 8,
   "id": "4881c287",
   "metadata": {},
   "outputs": [],
   "source": [
    "#swapping the cropped image 1 with image 2\n",
    "img2 = cv2.imread('beach2.jpg')\n",
    "\n",
    "img2[1:275, 1:321] = cphoto1\n",
    "cv2.imshow('image1_swapped', img2)\n",
    "cv2.waitKey(0)==13\n",
    "cv2.destroyAllWindows()"
   ]
  },
  {
   "cell_type": "code",
   "execution_count": null,
   "id": "c0af6484",
   "metadata": {},
   "outputs": [],
   "source": []
  }
 ],
 "metadata": {
  "kernelspec": {
   "display_name": "Python 3",
   "language": "python",
   "name": "python3"
  },
  "language_info": {
   "codemirror_mode": {
    "name": "ipython",
    "version": 3
   },
   "file_extension": ".py",
   "mimetype": "text/x-python",
   "name": "python",
   "nbconvert_exporter": "python",
   "pygments_lexer": "ipython3",
   "version": "3.8.8"
  }
 },
 "nbformat": 4,
 "nbformat_minor": 5
}
